{
 "cells": [
  {
   "cell_type": "markdown",
   "id": "1d19e0a2",
   "metadata": {},
   "source": [
    "# Mayank Singh\n",
    "###### 19,Nov,2022"
   ]
  },
  {
   "cell_type": "markdown",
   "id": "cd3a4014",
   "metadata": {},
   "source": [
    "### Agenda - Which basic questions we should think of/ask when we see the Data for the first time?"
   ]
  },
  {
   "cell_type": "markdown",
   "id": "241bf8b6",
   "metadata": {},
   "source": [
    "## Importing Liabrary"
   ]
  },
  {
   "cell_type": "code",
   "execution_count": 1,
   "id": "91dafc39",
   "metadata": {},
   "outputs": [],
   "source": [
    "import pandas as pd"
   ]
  },
  {
   "cell_type": "markdown",
   "id": "8cf184a7",
   "metadata": {},
   "source": [
    "# Reading Data\n",
    "\n",
    "Sometimes reading Data from CSV files gets encoding errors, and to get over these errors we have many options to chnage the encoding (read documentation/Google) or we can ignore the encoding erros "
   ]
  },
  {
   "cell_type": "code",
   "execution_count": 2,
   "id": "422c46a6",
   "metadata": {},
   "outputs": [],
   "source": [
    "## Ignoring the encoding errors in my case, using \"encoding_erros = 'ignore' parameter\"\n",
    "df = pd.read_csv('Himachal_Pradesh_Political_party_candidates.csv', encoding_errors='ignore')"
   ]
  },
  {
   "cell_type": "code",
   "execution_count": 3,
   "id": "c750f558",
   "metadata": {},
   "outputs": [],
   "source": [
    "# Reading first 5 rows of data using pd.head() function"
   ]
  },
  {
   "cell_type": "code",
   "execution_count": 4,
   "id": "a041b5ba",
   "metadata": {},
   "outputs": [
    {
     "data": {
      "text/html": [
       "<div>\n",
       "<style scoped>\n",
       "    .dataframe tbody tr th:only-of-type {\n",
       "        vertical-align: middle;\n",
       "    }\n",
       "\n",
       "    .dataframe tbody tr th {\n",
       "        vertical-align: top;\n",
       "    }\n",
       "\n",
       "    .dataframe thead th {\n",
       "        text-align: right;\n",
       "    }\n",
       "</style>\n",
       "<table border=\"1\" class=\"dataframe\">\n",
       "  <thead>\n",
       "    <tr style=\"text-align: right;\">\n",
       "      <th></th>\n",
       "      <th>Sno</th>\n",
       "      <th>Candidate</th>\n",
       "      <th>Constituency</th>\n",
       "      <th>Party</th>\n",
       "      <th>Criminal Case</th>\n",
       "      <th>Education</th>\n",
       "      <th>Total Assets</th>\n",
       "      <th>Liabilities</th>\n",
       "    </tr>\n",
       "  </thead>\n",
       "  <tbody>\n",
       "    <tr>\n",
       "      <th>0</th>\n",
       "      <td>1</td>\n",
       "      <td>Abhay Kumar Ashok</td>\n",
       "      <td>DHARAMSHALA</td>\n",
       "      <td>IND</td>\n",
       "      <td>0</td>\n",
       "      <td>Post Graduate</td>\n",
       "      <td>Rs97,40,093\\r\\n~ 97Lacs+</td>\n",
       "      <td>Rs0\\r\\n~</td>\n",
       "    </tr>\n",
       "    <tr>\n",
       "      <th>1</th>\n",
       "      <td>2</td>\n",
       "      <td>Abhinay Bhardwaj</td>\n",
       "      <td>HAMIRPUR</td>\n",
       "      <td>Rashtriya Devbhumi Party</td>\n",
       "      <td>0</td>\n",
       "      <td>Graduate</td>\n",
       "      <td>Rs5,42,477\\r\\n~ 5Lacs+</td>\n",
       "      <td>Rs2,50,000\\r\\n~ 2Lacs+</td>\n",
       "    </tr>\n",
       "    <tr>\n",
       "      <th>2</th>\n",
       "      <td>3</td>\n",
       "      <td>Abhishek Barowalia</td>\n",
       "      <td>SHIMLA</td>\n",
       "      <td>IND</td>\n",
       "      <td>0</td>\n",
       "      <td>Graduate Professional</td>\n",
       "      <td>Rs29,54,391\\r\\n~ 29Lacs+</td>\n",
       "      <td>Rs3,50,707\\r\\n~ 3Lacs+</td>\n",
       "    </tr>\n",
       "    <tr>\n",
       "      <th>3</th>\n",
       "      <td>4</td>\n",
       "      <td>Abhishek Singh</td>\n",
       "      <td>SHAHPUR</td>\n",
       "      <td>AAP</td>\n",
       "      <td>0</td>\n",
       "      <td>12th Pass</td>\n",
       "      <td>Rs65,59,12,561\\r\\n~ 65Crore+</td>\n",
       "      <td>Rs1,07,88,644\\r\\n~ 1Crore+</td>\n",
       "    </tr>\n",
       "    <tr>\n",
       "      <th>4</th>\n",
       "      <td>5</td>\n",
       "      <td>Abhishek Thakur</td>\n",
       "      <td>SUNDERNAGAR</td>\n",
       "      <td>IND</td>\n",
       "      <td>0</td>\n",
       "      <td>Graduate Professional</td>\n",
       "      <td>Rs7,63,01,043\\r\\n~ 7Crore+</td>\n",
       "      <td>Rs4,16,16,505\\r\\n~ 4Crore+</td>\n",
       "    </tr>\n",
       "  </tbody>\n",
       "</table>\n",
       "</div>"
      ],
      "text/plain": [
       "   Sno           Candidate Constituency                     Party  \\\n",
       "0    1   Abhay Kumar Ashok  DHARAMSHALA                       IND   \n",
       "1    2    Abhinay Bhardwaj     HAMIRPUR  Rashtriya Devbhumi Party   \n",
       "2    3  Abhishek Barowalia       SHIMLA                       IND   \n",
       "3    4      Abhishek Singh      SHAHPUR                       AAP   \n",
       "4    5     Abhishek Thakur  SUNDERNAGAR                       IND   \n",
       "\n",
       "   Criminal Case              Education                  Total Assets  \\\n",
       "0              0          Post Graduate      Rs97,40,093\\r\\n~ 97Lacs+   \n",
       "1              0               Graduate        Rs5,42,477\\r\\n~ 5Lacs+   \n",
       "2              0  Graduate Professional      Rs29,54,391\\r\\n~ 29Lacs+   \n",
       "3              0              12th Pass  Rs65,59,12,561\\r\\n~ 65Crore+   \n",
       "4              0  Graduate Professional    Rs7,63,01,043\\r\\n~ 7Crore+   \n",
       "\n",
       "                  Liabilities  \n",
       "0                    Rs0\\r\\n~  \n",
       "1      Rs2,50,000\\r\\n~ 2Lacs+  \n",
       "2      Rs3,50,707\\r\\n~ 3Lacs+  \n",
       "3  Rs1,07,88,644\\r\\n~ 1Crore+  \n",
       "4  Rs4,16,16,505\\r\\n~ 4Crore+  "
      ]
     },
     "execution_count": 4,
     "metadata": {},
     "output_type": "execute_result"
    }
   ],
   "source": [
    "df.head()"
   ]
  },
  {
   "cell_type": "markdown",
   "id": "1a22f824",
   "metadata": {},
   "source": [
    "# Questions to ask - Begin"
   ]
  },
  {
   "cell_type": "markdown",
   "id": "71c23f42",
   "metadata": {},
   "source": [
    "# 1. How big is the Data?\n",
    "To get a baisc idea about the size of data should be first task, to understand that with which we are going to deal - is the data too big, small, average and so on...."
   ]
  },
  {
   "cell_type": "code",
   "execution_count": 5,
   "id": "525e3663",
   "metadata": {},
   "outputs": [
    {
     "data": {
      "text/plain": [
       "(412, 8)"
      ]
     },
     "execution_count": 5,
     "metadata": {},
     "output_type": "execute_result"
    }
   ],
   "source": [
    "df.shape"
   ]
  },
  {
   "cell_type": "markdown",
   "id": "740113cb",
   "metadata": {},
   "source": [
    "# 2. How does the Data look like?\n",
    "We should have rough idea of our dataset. Which all coulmns are present, what are they depicting, how many int colmns, object/string colmns etc. "
   ]
  },
  {
   "cell_type": "code",
   "execution_count": 6,
   "id": "4c87dd2b",
   "metadata": {},
   "outputs": [
    {
     "data": {
      "text/html": [
       "<div>\n",
       "<style scoped>\n",
       "    .dataframe tbody tr th:only-of-type {\n",
       "        vertical-align: middle;\n",
       "    }\n",
       "\n",
       "    .dataframe tbody tr th {\n",
       "        vertical-align: top;\n",
       "    }\n",
       "\n",
       "    .dataframe thead th {\n",
       "        text-align: right;\n",
       "    }\n",
       "</style>\n",
       "<table border=\"1\" class=\"dataframe\">\n",
       "  <thead>\n",
       "    <tr style=\"text-align: right;\">\n",
       "      <th></th>\n",
       "      <th>Sno</th>\n",
       "      <th>Candidate</th>\n",
       "      <th>Constituency</th>\n",
       "      <th>Party</th>\n",
       "      <th>Criminal Case</th>\n",
       "      <th>Education</th>\n",
       "      <th>Total Assets</th>\n",
       "      <th>Liabilities</th>\n",
       "    </tr>\n",
       "  </thead>\n",
       "  <tbody>\n",
       "    <tr>\n",
       "      <th>0</th>\n",
       "      <td>1</td>\n",
       "      <td>Abhay Kumar Ashok</td>\n",
       "      <td>DHARAMSHALA</td>\n",
       "      <td>IND</td>\n",
       "      <td>0</td>\n",
       "      <td>Post Graduate</td>\n",
       "      <td>Rs97,40,093\\r\\n~ 97Lacs+</td>\n",
       "      <td>Rs0\\r\\n~</td>\n",
       "    </tr>\n",
       "    <tr>\n",
       "      <th>1</th>\n",
       "      <td>2</td>\n",
       "      <td>Abhinay Bhardwaj</td>\n",
       "      <td>HAMIRPUR</td>\n",
       "      <td>Rashtriya Devbhumi Party</td>\n",
       "      <td>0</td>\n",
       "      <td>Graduate</td>\n",
       "      <td>Rs5,42,477\\r\\n~ 5Lacs+</td>\n",
       "      <td>Rs2,50,000\\r\\n~ 2Lacs+</td>\n",
       "    </tr>\n",
       "    <tr>\n",
       "      <th>2</th>\n",
       "      <td>3</td>\n",
       "      <td>Abhishek Barowalia</td>\n",
       "      <td>SHIMLA</td>\n",
       "      <td>IND</td>\n",
       "      <td>0</td>\n",
       "      <td>Graduate Professional</td>\n",
       "      <td>Rs29,54,391\\r\\n~ 29Lacs+</td>\n",
       "      <td>Rs3,50,707\\r\\n~ 3Lacs+</td>\n",
       "    </tr>\n",
       "    <tr>\n",
       "      <th>3</th>\n",
       "      <td>4</td>\n",
       "      <td>Abhishek Singh</td>\n",
       "      <td>SHAHPUR</td>\n",
       "      <td>AAP</td>\n",
       "      <td>0</td>\n",
       "      <td>12th Pass</td>\n",
       "      <td>Rs65,59,12,561\\r\\n~ 65Crore+</td>\n",
       "      <td>Rs1,07,88,644\\r\\n~ 1Crore+</td>\n",
       "    </tr>\n",
       "    <tr>\n",
       "      <th>4</th>\n",
       "      <td>5</td>\n",
       "      <td>Abhishek Thakur</td>\n",
       "      <td>SUNDERNAGAR</td>\n",
       "      <td>IND</td>\n",
       "      <td>0</td>\n",
       "      <td>Graduate Professional</td>\n",
       "      <td>Rs7,63,01,043\\r\\n~ 7Crore+</td>\n",
       "      <td>Rs4,16,16,505\\r\\n~ 4Crore+</td>\n",
       "    </tr>\n",
       "  </tbody>\n",
       "</table>\n",
       "</div>"
      ],
      "text/plain": [
       "   Sno           Candidate Constituency                     Party  \\\n",
       "0    1   Abhay Kumar Ashok  DHARAMSHALA                       IND   \n",
       "1    2    Abhinay Bhardwaj     HAMIRPUR  Rashtriya Devbhumi Party   \n",
       "2    3  Abhishek Barowalia       SHIMLA                       IND   \n",
       "3    4      Abhishek Singh      SHAHPUR                       AAP   \n",
       "4    5     Abhishek Thakur  SUNDERNAGAR                       IND   \n",
       "\n",
       "   Criminal Case              Education                  Total Assets  \\\n",
       "0              0          Post Graduate      Rs97,40,093\\r\\n~ 97Lacs+   \n",
       "1              0               Graduate        Rs5,42,477\\r\\n~ 5Lacs+   \n",
       "2              0  Graduate Professional      Rs29,54,391\\r\\n~ 29Lacs+   \n",
       "3              0              12th Pass  Rs65,59,12,561\\r\\n~ 65Crore+   \n",
       "4              0  Graduate Professional    Rs7,63,01,043\\r\\n~ 7Crore+   \n",
       "\n",
       "                  Liabilities  \n",
       "0                    Rs0\\r\\n~  \n",
       "1      Rs2,50,000\\r\\n~ 2Lacs+  \n",
       "2      Rs3,50,707\\r\\n~ 3Lacs+  \n",
       "3  Rs1,07,88,644\\r\\n~ 1Crore+  \n",
       "4  Rs4,16,16,505\\r\\n~ 4Crore+  "
      ]
     },
     "execution_count": 6,
     "metadata": {},
     "output_type": "execute_result"
    }
   ],
   "source": [
    "## Two methods are available for this task\n",
    "# 1. pd.head()\n",
    "df.head() # display/read the first 5 rows of the dataset"
   ]
  },
  {
   "cell_type": "code",
   "execution_count": 7,
   "id": "efdcaa5d",
   "metadata": {},
   "outputs": [
    {
     "data": {
      "text/html": [
       "<div>\n",
       "<style scoped>\n",
       "    .dataframe tbody tr th:only-of-type {\n",
       "        vertical-align: middle;\n",
       "    }\n",
       "\n",
       "    .dataframe tbody tr th {\n",
       "        vertical-align: top;\n",
       "    }\n",
       "\n",
       "    .dataframe thead th {\n",
       "        text-align: right;\n",
       "    }\n",
       "</style>\n",
       "<table border=\"1\" class=\"dataframe\">\n",
       "  <thead>\n",
       "    <tr style=\"text-align: right;\">\n",
       "      <th></th>\n",
       "      <th>Sno</th>\n",
       "      <th>Candidate</th>\n",
       "      <th>Constituency</th>\n",
       "      <th>Party</th>\n",
       "      <th>Criminal Case</th>\n",
       "      <th>Education</th>\n",
       "      <th>Total Assets</th>\n",
       "      <th>Liabilities</th>\n",
       "    </tr>\n",
       "  </thead>\n",
       "  <tbody>\n",
       "    <tr>\n",
       "      <th>348</th>\n",
       "      <td>349</td>\n",
       "      <td>Sudhir Kumar</td>\n",
       "      <td>JHANDUTA (SC)</td>\n",
       "      <td>AAP</td>\n",
       "      <td>0</td>\n",
       "      <td>Post Graduate</td>\n",
       "      <td>Rs28,57,000\\r\\n~ 28Lacs+</td>\n",
       "      <td>Rs4,53,817\\r\\n~ 4Lacs+</td>\n",
       "    </tr>\n",
       "    <tr>\n",
       "      <th>383</th>\n",
       "      <td>384</td>\n",
       "      <td>Tikender Singh Panwar</td>\n",
       "      <td>SHIMLA</td>\n",
       "      <td>CPI(M)</td>\n",
       "      <td>3</td>\n",
       "      <td>Graduate</td>\n",
       "      <td>Rs4,34,85,802\\r\\n~ 4Crore+</td>\n",
       "      <td>Rs0\\r\\n~</td>\n",
       "    </tr>\n",
       "    <tr>\n",
       "      <th>169</th>\n",
       "      <td>170</td>\n",
       "      <td>Kushal Bhardwaj</td>\n",
       "      <td>JOGINDERNAGAR</td>\n",
       "      <td>CPI(M)</td>\n",
       "      <td>0</td>\n",
       "      <td>Post Graduate</td>\n",
       "      <td>Rs63,27,584\\r\\n~ 63Lacs+</td>\n",
       "      <td>Rs0\\r\\n~</td>\n",
       "    </tr>\n",
       "    <tr>\n",
       "      <th>310</th>\n",
       "      <td>311</td>\n",
       "      <td>Reena</td>\n",
       "      <td>PACHHAD (SC)</td>\n",
       "      <td>BJP</td>\n",
       "      <td>0</td>\n",
       "      <td>Post Graduate</td>\n",
       "      <td>Rs1,21,21,682\\r\\n~ 1Crore+</td>\n",
       "      <td>Rs42,14,263\\r\\n~ 42Lacs+</td>\n",
       "    </tr>\n",
       "    <tr>\n",
       "      <th>167</th>\n",
       "      <td>168</td>\n",
       "      <td>Kuldip Singh Tanwar</td>\n",
       "      <td>KASUMPTI</td>\n",
       "      <td>CPI(M)</td>\n",
       "      <td>20</td>\n",
       "      <td>Doctorate</td>\n",
       "      <td>Rs12,80,23,118\\r\\n~ 12Crore+</td>\n",
       "      <td>Rs0\\r\\n~</td>\n",
       "    </tr>\n",
       "    <tr>\n",
       "      <th>86</th>\n",
       "      <td>87</td>\n",
       "      <td>Dhavinder Singh</td>\n",
       "      <td>DALHOUSIE</td>\n",
       "      <td>BJP</td>\n",
       "      <td>0</td>\n",
       "      <td>10th Pass</td>\n",
       "      <td>Rs15,67,49,714\\r\\n~ 15Crore+</td>\n",
       "      <td>Rs74,89,862\\r\\n~ 74Lacs+</td>\n",
       "    </tr>\n",
       "    <tr>\n",
       "      <th>59</th>\n",
       "      <td>60</td>\n",
       "      <td>Bumber Thakur</td>\n",
       "      <td>BILASPUR</td>\n",
       "      <td>INC</td>\n",
       "      <td>2</td>\n",
       "      <td>Graduate Professional</td>\n",
       "      <td>Rs8,95,28,229\\r\\n~ 8Crore+</td>\n",
       "      <td>Rs55,61,994\\r\\n~ 55Lacs+</td>\n",
       "    </tr>\n",
       "    <tr>\n",
       "      <th>226</th>\n",
       "      <td>227</td>\n",
       "      <td>Paras Ram</td>\n",
       "      <td>ANNI (SC)</td>\n",
       "      <td>IND</td>\n",
       "      <td>0</td>\n",
       "      <td>Graduate</td>\n",
       "      <td>Rs1,81,42,000\\r\\n~ 1Crore+</td>\n",
       "      <td>Rs20,00,000\\r\\n~ 20Lacs+</td>\n",
       "    </tr>\n",
       "    <tr>\n",
       "      <th>197</th>\n",
       "      <td>198</td>\n",
       "      <td>Munish Sharma</td>\n",
       "      <td>SARKAGHAT</td>\n",
       "      <td>IND</td>\n",
       "      <td>1</td>\n",
       "      <td>Post Graduate</td>\n",
       "      <td>Rs41,94,392\\r\\n~ 41Lacs+</td>\n",
       "      <td>Rs30,50,000\\r\\n~ 30Lacs+</td>\n",
       "    </tr>\n",
       "    <tr>\n",
       "      <th>375</th>\n",
       "      <td>376</td>\n",
       "      <td>Tara Chand</td>\n",
       "      <td>BALH (SC)</td>\n",
       "      <td>AAP</td>\n",
       "      <td>0</td>\n",
       "      <td>10th Pass</td>\n",
       "      <td>Rs73,78,500\\r\\n~ 73Lacs+</td>\n",
       "      <td>Rs3,78,000\\r\\n~ 3Lacs+</td>\n",
       "    </tr>\n",
       "  </tbody>\n",
       "</table>\n",
       "</div>"
      ],
      "text/plain": [
       "     Sno              Candidate   Constituency   Party  Criminal Case  \\\n",
       "348  349           Sudhir Kumar  JHANDUTA (SC)     AAP              0   \n",
       "383  384  Tikender Singh Panwar         SHIMLA  CPI(M)              3   \n",
       "169  170        Kushal Bhardwaj  JOGINDERNAGAR  CPI(M)              0   \n",
       "310  311                  Reena   PACHHAD (SC)     BJP              0   \n",
       "167  168    Kuldip Singh Tanwar       KASUMPTI  CPI(M)             20   \n",
       "86    87        Dhavinder Singh      DALHOUSIE     BJP              0   \n",
       "59    60          Bumber Thakur       BILASPUR     INC              2   \n",
       "226  227              Paras Ram      ANNI (SC)     IND              0   \n",
       "197  198          Munish Sharma      SARKAGHAT     IND              1   \n",
       "375  376             Tara Chand      BALH (SC)     AAP              0   \n",
       "\n",
       "                 Education                  Total Assets  \\\n",
       "348          Post Graduate      Rs28,57,000\\r\\n~ 28Lacs+   \n",
       "383               Graduate    Rs4,34,85,802\\r\\n~ 4Crore+   \n",
       "169          Post Graduate      Rs63,27,584\\r\\n~ 63Lacs+   \n",
       "310          Post Graduate    Rs1,21,21,682\\r\\n~ 1Crore+   \n",
       "167              Doctorate  Rs12,80,23,118\\r\\n~ 12Crore+   \n",
       "86               10th Pass  Rs15,67,49,714\\r\\n~ 15Crore+   \n",
       "59   Graduate Professional    Rs8,95,28,229\\r\\n~ 8Crore+   \n",
       "226               Graduate    Rs1,81,42,000\\r\\n~ 1Crore+   \n",
       "197          Post Graduate      Rs41,94,392\\r\\n~ 41Lacs+   \n",
       "375              10th Pass      Rs73,78,500\\r\\n~ 73Lacs+   \n",
       "\n",
       "                  Liabilities  \n",
       "348    Rs4,53,817\\r\\n~ 4Lacs+  \n",
       "383                  Rs0\\r\\n~  \n",
       "169                  Rs0\\r\\n~  \n",
       "310  Rs42,14,263\\r\\n~ 42Lacs+  \n",
       "167                  Rs0\\r\\n~  \n",
       "86   Rs74,89,862\\r\\n~ 74Lacs+  \n",
       "59   Rs55,61,994\\r\\n~ 55Lacs+  \n",
       "226  Rs20,00,000\\r\\n~ 20Lacs+  \n",
       "197  Rs30,50,000\\r\\n~ 30Lacs+  \n",
       "375    Rs3,78,000\\r\\n~ 3Lacs+  "
      ]
     },
     "execution_count": 7,
     "metadata": {},
     "output_type": "execute_result"
    }
   ],
   "source": [
    "# 2. pd. sample()\n",
    "df.sample(10) # Randomly picks the data, so that user should not make a gernalize view of any column value/about the data."
   ]
  },
  {
   "cell_type": "markdown",
   "id": "a31b337c",
   "metadata": {},
   "source": [
    "# 3. What is the Data Types of columns?"
   ]
  },
  {
   "cell_type": "code",
   "execution_count": 8,
   "id": "67d10408",
   "metadata": {},
   "outputs": [
    {
     "name": "stdout",
     "output_type": "stream",
     "text": [
      "<class 'pandas.core.frame.DataFrame'>\n",
      "RangeIndex: 412 entries, 0 to 411\n",
      "Data columns (total 8 columns):\n",
      " #   Column         Non-Null Count  Dtype \n",
      "---  ------         --------------  ----- \n",
      " 0   Sno            412 non-null    int64 \n",
      " 1   Candidate      412 non-null    object\n",
      " 2   Constituency   412 non-null    object\n",
      " 3   Party          412 non-null    object\n",
      " 4   Criminal Case  412 non-null    int64 \n",
      " 5   Education      412 non-null    object\n",
      " 6   Total Assets   412 non-null    object\n",
      " 7   Liabilities    412 non-null    object\n",
      "dtypes: int64(2), object(6)\n",
      "memory usage: 25.9+ KB\n"
     ]
    }
   ],
   "source": [
    "df.info()"
   ]
  },
  {
   "cell_type": "markdown",
   "id": "5aebd714",
   "metadata": {},
   "source": [
    "# 4. Are there any missing values, if yes how many\n",
    "Although pd.info() somehow/indirectly tells us anout the missing values, but to know exact numbers and coulumns we should find out missing values seperately"
   ]
  },
  {
   "cell_type": "code",
   "execution_count": 9,
   "id": "f80b2d0f",
   "metadata": {},
   "outputs": [
    {
     "data": {
      "text/plain": [
       "Sno              0\n",
       "Candidate        0\n",
       "Constituency     0\n",
       "Party            0\n",
       "Criminal Case    0\n",
       "Education        0\n",
       "Total Assets     0\n",
       "Liabilities      0\n",
       "dtype: int64"
      ]
     },
     "execution_count": 9,
     "metadata": {},
     "output_type": "execute_result"
    }
   ],
   "source": [
    "df.isnull().sum()"
   ]
  },
  {
   "cell_type": "markdown",
   "id": "17e2325a",
   "metadata": {},
   "source": [
    "# 5. How does the data look mathematically?"
   ]
  },
  {
   "cell_type": "code",
   "execution_count": 10,
   "id": "f6bb9a9a",
   "metadata": {},
   "outputs": [
    {
     "data": {
      "text/html": [
       "<div>\n",
       "<style scoped>\n",
       "    .dataframe tbody tr th:only-of-type {\n",
       "        vertical-align: middle;\n",
       "    }\n",
       "\n",
       "    .dataframe tbody tr th {\n",
       "        vertical-align: top;\n",
       "    }\n",
       "\n",
       "    .dataframe thead th {\n",
       "        text-align: right;\n",
       "    }\n",
       "</style>\n",
       "<table border=\"1\" class=\"dataframe\">\n",
       "  <thead>\n",
       "    <tr style=\"text-align: right;\">\n",
       "      <th></th>\n",
       "      <th>Sno</th>\n",
       "      <th>Criminal Case</th>\n",
       "    </tr>\n",
       "  </thead>\n",
       "  <tbody>\n",
       "    <tr>\n",
       "      <th>count</th>\n",
       "      <td>412.000000</td>\n",
       "      <td>412.000000</td>\n",
       "    </tr>\n",
       "    <tr>\n",
       "      <th>mean</th>\n",
       "      <td>206.500000</td>\n",
       "      <td>0.601942</td>\n",
       "    </tr>\n",
       "    <tr>\n",
       "      <th>std</th>\n",
       "      <td>119.078406</td>\n",
       "      <td>2.323433</td>\n",
       "    </tr>\n",
       "    <tr>\n",
       "      <th>min</th>\n",
       "      <td>1.000000</td>\n",
       "      <td>0.000000</td>\n",
       "    </tr>\n",
       "    <tr>\n",
       "      <th>25%</th>\n",
       "      <td>103.750000</td>\n",
       "      <td>0.000000</td>\n",
       "    </tr>\n",
       "    <tr>\n",
       "      <th>50%</th>\n",
       "      <td>206.500000</td>\n",
       "      <td>0.000000</td>\n",
       "    </tr>\n",
       "    <tr>\n",
       "      <th>75%</th>\n",
       "      <td>309.250000</td>\n",
       "      <td>0.000000</td>\n",
       "    </tr>\n",
       "    <tr>\n",
       "      <th>max</th>\n",
       "      <td>412.000000</td>\n",
       "      <td>30.000000</td>\n",
       "    </tr>\n",
       "  </tbody>\n",
       "</table>\n",
       "</div>"
      ],
      "text/plain": [
       "              Sno  Criminal Case\n",
       "count  412.000000     412.000000\n",
       "mean   206.500000       0.601942\n",
       "std    119.078406       2.323433\n",
       "min      1.000000       0.000000\n",
       "25%    103.750000       0.000000\n",
       "50%    206.500000       0.000000\n",
       "75%    309.250000       0.000000\n",
       "max    412.000000      30.000000"
      ]
     },
     "execution_count": 10,
     "metadata": {},
     "output_type": "execute_result"
    }
   ],
   "source": [
    "df.describe() # it provides the basic mathematical calculations ONLY ON INTEGER COLUMNS.\n",
    "# Since the data is not cleaned, hece the results are of not much use at this particular time, \n",
    "# but if the data is somewhat in good shape, the function is of good use. At later stage we goona \n",
    "# convert some coulmns to int type and will try to perform this function again."
   ]
  },
  {
   "cell_type": "markdown",
   "id": "4f84afb8",
   "metadata": {},
   "source": [
    "# 6. Are there duplicate values?"
   ]
  },
  {
   "cell_type": "code",
   "execution_count": 11,
   "id": "cc6ca116",
   "metadata": {},
   "outputs": [
    {
     "data": {
      "text/plain": [
       "0"
      ]
     },
     "execution_count": 11,
     "metadata": {},
     "output_type": "execute_result"
    }
   ],
   "source": [
    "df.duplicated().sum()"
   ]
  },
  {
   "cell_type": "markdown",
   "id": "91a32c56",
   "metadata": {},
   "source": [
    "# 7. How/What is the correlation between columns?"
   ]
  },
  {
   "cell_type": "code",
   "execution_count": 12,
   "id": "1a5b13c6",
   "metadata": {},
   "outputs": [
    {
     "data": {
      "text/html": [
       "<div>\n",
       "<style scoped>\n",
       "    .dataframe tbody tr th:only-of-type {\n",
       "        vertical-align: middle;\n",
       "    }\n",
       "\n",
       "    .dataframe tbody tr th {\n",
       "        vertical-align: top;\n",
       "    }\n",
       "\n",
       "    .dataframe thead th {\n",
       "        text-align: right;\n",
       "    }\n",
       "</style>\n",
       "<table border=\"1\" class=\"dataframe\">\n",
       "  <thead>\n",
       "    <tr style=\"text-align: right;\">\n",
       "      <th></th>\n",
       "      <th>Sno</th>\n",
       "      <th>Criminal Case</th>\n",
       "    </tr>\n",
       "  </thead>\n",
       "  <tbody>\n",
       "    <tr>\n",
       "      <th>Sno</th>\n",
       "      <td>1.000000</td>\n",
       "      <td>0.005523</td>\n",
       "    </tr>\n",
       "    <tr>\n",
       "      <th>Criminal Case</th>\n",
       "      <td>0.005523</td>\n",
       "      <td>1.000000</td>\n",
       "    </tr>\n",
       "  </tbody>\n",
       "</table>\n",
       "</div>"
      ],
      "text/plain": [
       "                    Sno  Criminal Case\n",
       "Sno            1.000000       0.005523\n",
       "Criminal Case  0.005523       1.000000"
      ]
     },
     "execution_count": 12,
     "metadata": {},
     "output_type": "execute_result"
    }
   ],
   "source": [
    "df.corr() # it provides the basic mathematical calculations ONLY ON INTEGER COLUMNS.\n",
    "# Since the data is not cleaned, hece the results are of not much use at this particular time, \n",
    "# but if the data is somewhat in good shape, the function is of good use. At later stage we goona \n",
    "# convert some coulmns to int type and will try to perform this function again."
   ]
  }
 ],
 "metadata": {
  "kernelspec": {
   "display_name": "Python 3 (ipykernel)",
   "language": "python",
   "name": "python3"
  },
  "language_info": {
   "codemirror_mode": {
    "name": "ipython",
    "version": 3
   },
   "file_extension": ".py",
   "mimetype": "text/x-python",
   "name": "python",
   "nbconvert_exporter": "python",
   "pygments_lexer": "ipython3",
   "version": "3.10.4"
  }
 },
 "nbformat": 4,
 "nbformat_minor": 5
}
