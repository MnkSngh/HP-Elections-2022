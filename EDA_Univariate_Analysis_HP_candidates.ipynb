{
 "cells": [
  {
   "cell_type": "markdown",
   "id": "af73c5fb",
   "metadata": {},
   "source": [
    "## Mayank Singh\n",
    "#### 19, Nov, 2022\n",
    "# HP Election - 2022"
   ]
  },
  {
   "cell_type": "markdown",
   "id": "0f1e97ba",
   "metadata": {},
   "source": [
    "###  Agenda - Understanding and Performing Univariate Analysis"
   ]
  },
  {
   "cell_type": "markdown",
   "id": "d35f15b0",
   "metadata": {},
   "source": [
    "##### Univariate Analysis\n",
    "- The term univariate analysis refers to the analysis of one variable. You can remember this because the prefix “uni” means “one.” The purpose of univariate analysis is to understand the distribution of values for a single variable. In other words, independent analysis of each column/variable/feature is known Univariate Analysis."
   ]
  },
  {
   "cell_type": "markdown",
   "id": "4a255d53",
   "metadata": {},
   "source": [
    "## Importing Liabraries"
   ]
  },
  {
   "cell_type": "code",
   "execution_count": 1,
   "id": "01d0939a",
   "metadata": {},
   "outputs": [],
   "source": [
    "import pandas as pd\n",
    "import seaborn as sns\n",
    "import matplotlib.pyplot as plt\n",
    "%matplotlib inline"
   ]
  },
  {
   "cell_type": "markdown",
   "id": "5a4d9212",
   "metadata": {},
   "source": [
    "Generally before starting EDA, we should ask 7 basic questions about the data set and try to clean, transform the dataset as required.\n",
    "We are doing the same in below steps before starting EDA."
   ]
  },
  {
   "cell_type": "code",
   "execution_count": 2,
   "id": "23dfcf0f",
   "metadata": {},
   "outputs": [],
   "source": [
    "## Ignoring the encoding errors in my case, using \"encoding_erros = 'ignore' parameter\"\n",
    "df = pd.read_csv('Himachal_Pradesh_Political_party_candidates.csv', encoding_errors='ignore')"
   ]
  },
  {
   "cell_type": "code",
   "execution_count": 3,
   "id": "e3fc8c80",
   "metadata": {},
   "outputs": [
    {
     "data": {
      "text/html": [
       "<div>\n",
       "<style scoped>\n",
       "    .dataframe tbody tr th:only-of-type {\n",
       "        vertical-align: middle;\n",
       "    }\n",
       "\n",
       "    .dataframe tbody tr th {\n",
       "        vertical-align: top;\n",
       "    }\n",
       "\n",
       "    .dataframe thead th {\n",
       "        text-align: right;\n",
       "    }\n",
       "</style>\n",
       "<table border=\"1\" class=\"dataframe\">\n",
       "  <thead>\n",
       "    <tr style=\"text-align: right;\">\n",
       "      <th></th>\n",
       "      <th>Sno</th>\n",
       "      <th>Candidate</th>\n",
       "      <th>Constituency</th>\n",
       "      <th>Party</th>\n",
       "      <th>Criminal Case</th>\n",
       "      <th>Education</th>\n",
       "      <th>Total Assets</th>\n",
       "      <th>Liabilities</th>\n",
       "    </tr>\n",
       "  </thead>\n",
       "  <tbody>\n",
       "    <tr>\n",
       "      <th>0</th>\n",
       "      <td>1</td>\n",
       "      <td>Abhay Kumar Ashok</td>\n",
       "      <td>DHARAMSHALA</td>\n",
       "      <td>IND</td>\n",
       "      <td>0</td>\n",
       "      <td>Post Graduate</td>\n",
       "      <td>Rs97,40,093\\r\\n~ 97Lacs+</td>\n",
       "      <td>Rs0\\r\\n~</td>\n",
       "    </tr>\n",
       "    <tr>\n",
       "      <th>1</th>\n",
       "      <td>2</td>\n",
       "      <td>Abhinay Bhardwaj</td>\n",
       "      <td>HAMIRPUR</td>\n",
       "      <td>Rashtriya Devbhumi Party</td>\n",
       "      <td>0</td>\n",
       "      <td>Graduate</td>\n",
       "      <td>Rs5,42,477\\r\\n~ 5Lacs+</td>\n",
       "      <td>Rs2,50,000\\r\\n~ 2Lacs+</td>\n",
       "    </tr>\n",
       "  </tbody>\n",
       "</table>\n",
       "</div>"
      ],
      "text/plain": [
       "   Sno          Candidate Constituency                     Party  \\\n",
       "0    1  Abhay Kumar Ashok  DHARAMSHALA                       IND   \n",
       "1    2   Abhinay Bhardwaj     HAMIRPUR  Rashtriya Devbhumi Party   \n",
       "\n",
       "   Criminal Case      Education              Total Assets  \\\n",
       "0              0  Post Graduate  Rs97,40,093\\r\\n~ 97Lacs+   \n",
       "1              0       Graduate    Rs5,42,477\\r\\n~ 5Lacs+   \n",
       "\n",
       "              Liabilities  \n",
       "0                Rs0\\r\\n~  \n",
       "1  Rs2,50,000\\r\\n~ 2Lacs+  "
      ]
     },
     "execution_count": 3,
     "metadata": {},
     "output_type": "execute_result"
    }
   ],
   "source": [
    "df.head(2)"
   ]
  },
  {
   "cell_type": "code",
   "execution_count": 4,
   "id": "30fefcc8",
   "metadata": {},
   "outputs": [],
   "source": [
    "# Converting two major columns of Data set from String/object to int\n",
    "# 1. Total assests value\n",
    "# 2. Liabilities value"
   ]
  },
  {
   "cell_type": "code",
   "execution_count": 5,
   "id": "ea610bee",
   "metadata": {},
   "outputs": [],
   "source": [
    "# .str.replace() is used to remove unwanted characters from the coulmn values so that we get left only with digits to covert \n",
    "# the object to int\n",
    "df['Total Assets'] = df['Total Assets'].str.replace('Rs',\"\")\n",
    "df['Total Assets'] = df['Total Assets'].str.replace('\\r\\n~',\"\")\n",
    "df['Total Assets'] = df['Total Assets'].str.replace(',',\"\")\n",
    "df['Total Assets']= df['Total Assets'].str.split().str[0]\n",
    "df['Total Assets'] = df['Total Assets'].str.strip()\n",
    "df['Total Assets'] = df['Total Assets'].astype(int) # converting object to int"
   ]
  },
  {
   "cell_type": "code",
   "execution_count": 6,
   "id": "b14ff5c2",
   "metadata": {},
   "outputs": [],
   "source": [
    "# .str.replace() is used to remove unwanted characters from the coulmn values so that we get left only with digits to covert \n",
    "# the object to int\n",
    "df['Liabilities'] = df['Liabilities'].str.replace('Rs',\"\")\n",
    "df['Liabilities'] = df['Liabilities'].str.replace('\\r\\n~',\"\")\n",
    "df['Liabilities'] = df['Liabilities'].str.replace(',',\"\")\n",
    "df['Liabilities']= df['Liabilities'].str.split().str[0]\n",
    "df['Liabilities'] = df['Liabilities'].str.strip()\n",
    "df['Liabilities'] = df['Liabilities'].astype(int) # converting object to int"
   ]
  },
  {
   "cell_type": "code",
   "execution_count": 7,
   "id": "30740e27",
   "metadata": {},
   "outputs": [],
   "source": [
    "df.drop('Sno', axis = 1,inplace = True)"
   ]
  },
  {
   "cell_type": "code",
   "execution_count": 8,
   "id": "011d4b7e",
   "metadata": {
    "scrolled": true
   },
   "outputs": [
    {
     "data": {
      "text/plain": [
       "Candidate        0\n",
       "Constituency     0\n",
       "Party            0\n",
       "Criminal Case    0\n",
       "Education        0\n",
       "Total Assets     0\n",
       "Liabilities      0\n",
       "dtype: int64"
      ]
     },
     "execution_count": 8,
     "metadata": {},
     "output_type": "execute_result"
    }
   ],
   "source": [
    "df.isnull().sum()"
   ]
  },
  {
   "cell_type": "code",
   "execution_count": 9,
   "id": "56f3e52d",
   "metadata": {},
   "outputs": [
    {
     "data": {
      "text/html": [
       "<div>\n",
       "<style scoped>\n",
       "    .dataframe tbody tr th:only-of-type {\n",
       "        vertical-align: middle;\n",
       "    }\n",
       "\n",
       "    .dataframe tbody tr th {\n",
       "        vertical-align: top;\n",
       "    }\n",
       "\n",
       "    .dataframe thead th {\n",
       "        text-align: right;\n",
       "    }\n",
       "</style>\n",
       "<table border=\"1\" class=\"dataframe\">\n",
       "  <thead>\n",
       "    <tr style=\"text-align: right;\">\n",
       "      <th></th>\n",
       "      <th>Candidate</th>\n",
       "      <th>Constituency</th>\n",
       "      <th>Party</th>\n",
       "      <th>Criminal Case</th>\n",
       "      <th>Education</th>\n",
       "      <th>Total Assets</th>\n",
       "      <th>Liabilities</th>\n",
       "    </tr>\n",
       "  </thead>\n",
       "  <tbody>\n",
       "    <tr>\n",
       "      <th>261</th>\n",
       "      <td>Rajesh Dharmani</td>\n",
       "      <td>GHUMARWIN</td>\n",
       "      <td>INC</td>\n",
       "      <td>1</td>\n",
       "      <td>Post Graduate</td>\n",
       "      <td>13294907</td>\n",
       "      <td>365614</td>\n",
       "    </tr>\n",
       "    <tr>\n",
       "      <th>303</th>\n",
       "      <td>Ravi Kumar Mehta</td>\n",
       "      <td>SHIMLA RURAL</td>\n",
       "      <td>BJP</td>\n",
       "      <td>1</td>\n",
       "      <td>Post Graduate</td>\n",
       "      <td>23087042</td>\n",
       "      <td>2310662</td>\n",
       "    </tr>\n",
       "    <tr>\n",
       "      <th>96</th>\n",
       "      <td>Dr.Ram Lal Markanda</td>\n",
       "      <td>LAHAUL AND SPITI (ST)</td>\n",
       "      <td>BJP</td>\n",
       "      <td>0</td>\n",
       "      <td>Doctorate</td>\n",
       "      <td>13929621</td>\n",
       "      <td>2000000</td>\n",
       "    </tr>\n",
       "    <tr>\n",
       "      <th>144</th>\n",
       "      <td>K. L. Thakur</td>\n",
       "      <td>NALAGARH</td>\n",
       "      <td>IND</td>\n",
       "      <td>0</td>\n",
       "      <td>Graduate Professional</td>\n",
       "      <td>25275022</td>\n",
       "      <td>13754673</td>\n",
       "    </tr>\n",
       "    <tr>\n",
       "      <th>67</th>\n",
       "      <td>Chander Mohan</td>\n",
       "      <td>UNA</td>\n",
       "      <td>IND</td>\n",
       "      <td>0</td>\n",
       "      <td>Graduate</td>\n",
       "      <td>6959604</td>\n",
       "      <td>0</td>\n",
       "    </tr>\n",
       "  </tbody>\n",
       "</table>\n",
       "</div>"
      ],
      "text/plain": [
       "               Candidate           Constituency Party  Criminal Case  \\\n",
       "261      Rajesh Dharmani              GHUMARWIN   INC              1   \n",
       "303     Ravi Kumar Mehta           SHIMLA RURAL   BJP              1   \n",
       "96   Dr.Ram Lal Markanda  LAHAUL AND SPITI (ST)   BJP              0   \n",
       "144         K. L. Thakur               NALAGARH   IND              0   \n",
       "67         Chander Mohan                    UNA   IND              0   \n",
       "\n",
       "                 Education  Total Assets  Liabilities  \n",
       "261          Post Graduate      13294907       365614  \n",
       "303          Post Graduate      23087042      2310662  \n",
       "96               Doctorate      13929621      2000000  \n",
       "144  Graduate Professional      25275022     13754673  \n",
       "67                Graduate       6959604            0  "
      ]
     },
     "execution_count": 9,
     "metadata": {},
     "output_type": "execute_result"
    }
   ],
   "source": [
    "df.sample(5)"
   ]
  },
  {
   "cell_type": "code",
   "execution_count": 10,
   "id": "ba95efbf",
   "metadata": {},
   "outputs": [
    {
     "name": "stdout",
     "output_type": "stream",
     "text": [
      "<class 'pandas.core.frame.DataFrame'>\n",
      "RangeIndex: 412 entries, 0 to 411\n",
      "Data columns (total 7 columns):\n",
      " #   Column         Non-Null Count  Dtype \n",
      "---  ------         --------------  ----- \n",
      " 0   Candidate      412 non-null    object\n",
      " 1   Constituency   412 non-null    object\n",
      " 2   Party          412 non-null    object\n",
      " 3   Criminal Case  412 non-null    int64 \n",
      " 4   Education      412 non-null    object\n",
      " 5   Total Assets   412 non-null    int32 \n",
      " 6   Liabilities    412 non-null    int32 \n",
      "dtypes: int32(2), int64(1), object(4)\n",
      "memory usage: 19.4+ KB\n"
     ]
    }
   ],
   "source": [
    "df.info() # finally we can see our required columns in INT type"
   ]
  },
  {
   "cell_type": "markdown",
   "id": "97040cc3",
   "metadata": {},
   "source": [
    "### Identifying Nature of columns to perform EDA:\n",
    "There are 2 types of columns avaailable in our data set:\n",
    "1. Numerical Columns\n",
    "2. Categorical Columns\n",
    "\n",
    "which type of EDA method to be used depends on the nature of coulmn"
   ]
  },
  {
   "cell_type": "markdown",
   "id": "804a7711",
   "metadata": {},
   "source": [
    "# Starting EDA\n",
    "### 1 . Categorical Columns\n",
    "To analyse the categoriacal columns, below given two kinds of plots are most accurate:\n",
    "1. Count plot - Gives a frequency count category wise\n",
    "2. Pie chart - To get the insights in %age, use pie charts"
   ]
  },
  {
   "cell_type": "markdown",
   "id": "6530bfdc",
   "metadata": {},
   "source": [
    "### a. countplot"
   ]
  },
  {
   "cell_type": "code",
   "execution_count": 24,
   "id": "08cc41e7",
   "metadata": {},
   "outputs": [
    {
     "data": {
      "image/png": "[encoded data removed]",
      "text/plain": [
       "<Figure size 1584x1008 with 1 Axes>"
      ]
     },
     "metadata": {},
     "output_type": "display_data"
    }
   ],
   "source": [
    "sns.countplot(data = df, x = 'Education', width=.5)\n",
    "sns.set(rc={\"figure.figsize\":(12, 4)}) #width=12, #height=4"
   ]
  },
  {
   "cell_type": "markdown",
   "id": "5ced82b9",
   "metadata": {},
   "source": [
    "#### What insights we can draw ----\n",
    "1. The highest qualification of candidates is Doctrate\n",
    "2. Highest no. of people are Graduate, and very negligible are Illetrate.\n",
    "3. 12th pass candidates are less than 10th pass.\n",
    "4. There are candiadates who are even below 5th Pass - 'Literate'."
   ]
  },
  {
   "cell_type": "code",
   "execution_count": 27,
   "id": "c3b012c8",
   "metadata": {},
   "outputs": [
    {
     "data": {
      "image/png": "[encoded data removed]",
      "text/plain": [
       "<Figure size 1584x288 with 1 Axes>"
      ]
     },
     "metadata": {},
     "output_type": "display_data"
    }
   ],
   "source": [
    "sns.countplot(data = df, x = 'Party', width=.5)\n",
    "sns.set(rc={\"figure.figsize\":(22, 14)}) #width=22, #height=14"
   ]
  },
  {
   "cell_type": "markdown",
   "id": "5ba71ca3",
   "metadata": {},
   "source": [
    "#### What insights we can draw ---\n",
    "1. The highest number of candidates are of IND party.\n",
    "2. Candidates of INC and BJP are equal.\n",
    "3. Which all parties are partcipating in election."
   ]
  },
  {
   "cell_type": "code",
   "execution_count": 13,
   "id": "68ef5a7c",
   "metadata": {},
   "outputs": [
    {
     "data": {
      "text/plain": [
       "0     318\n",
       "1      59\n",
       "2      12\n",
       "3      10\n",
       "4       3\n",
       "5       3\n",
       "11      2\n",
       "9       1\n",
       "8       1\n",
       "20      1\n",
       "19      1\n",
       "30      1\n",
       "Name: Criminal Case, dtype: int64"
      ]
     },
     "execution_count": 13,
     "metadata": {},
     "output_type": "execute_result"
    }
   ],
   "source": [
    "df['Criminal Case'].value_counts()"
   ]
  },
  {
   "cell_type": "markdown",
   "id": "8648b745",
   "metadata": {},
   "source": [
    "### b. Pie chart"
   ]
  },
  {
   "cell_type": "code",
   "execution_count": 14,
   "id": "d639736f",
   "metadata": {},
   "outputs": [
    {
     "data": {
      "image/png": "[encoded data removed]",
      "text/plain": [
       "<Figure size 576x1152 with 1 Axes>"
      ]
     },
     "metadata": {},
     "output_type": "display_data"
    }
   ],
   "source": [
    "df['Criminal Case'].value_counts()[0:5].plot(kind = 'pie',autopct = '%.2f%%')\n",
    "# To change the size of your pie chart/figure\n",
    "fig = plt.gcf()\n",
    "fig.set_size_inches(8,16)"
   ]
  },
  {
   "cell_type": "code",
   "execution_count": 15,
   "id": "746ddae0",
   "metadata": {
    "scrolled": true
   },
   "outputs": [
    {
     "data": {
      "image/png": "[encoded data removed]",
      "text/plain": [
       "<Figure size 864x432 with 1 Axes>"
      ]
     },
     "metadata": {},
     "output_type": "display_data"
    }
   ],
   "source": [
    "df['Criminal Case'].value_counts()[6:].plot(kind = 'pie',autopct = '%.2f%%')\n",
    "# To change the size of your pie chart/figure\n",
    "fig = plt.gcf()\n",
    "fig.set_size_inches(12,6)"
   ]
  },
  {
   "cell_type": "markdown",
   "id": "19f70bd4",
   "metadata": {},
   "source": [
    "#### The above three codes of analysis helping us to gather info about the Criminal cases of candidates\n",
    "1. What are the number of criminal cases and how many candidates fall into which category, and that too percenatge wise "
   ]
  },
  {
   "cell_type": "markdown",
   "id": "4852e0f5",
   "metadata": {},
   "source": [
    "### 2. Numerical Columns"
   ]
  },
  {
   "cell_type": "markdown",
   "id": "c3a469f9",
   "metadata": {},
   "source": [
    "### a. Histogram"
   ]
  },
  {
   "cell_type": "markdown",
   "id": "8c6c3909",
   "metadata": {},
   "source": [
    "Plot univariate or bivariate histograms to show distributions of datasets.\n",
    "\n",
    "A histogram is a classic visualization tool that represents the distribution\n",
    "of one or more variables by counting the number of observations that fall within\n",
    "discrete bins."
   ]
  },
  {
   "cell_type": "code",
   "execution_count": 16,
   "id": "bd3d5728",
   "metadata": {},
   "outputs": [
    {
     "data": {
      "text/html": [
       "<div>\n",
       "<style scoped>\n",
       "    .dataframe tbody tr th:only-of-type {\n",
       "        vertical-align: middle;\n",
       "    }\n",
       "\n",
       "    .dataframe tbody tr th {\n",
       "        vertical-align: top;\n",
       "    }\n",
       "\n",
       "    .dataframe thead th {\n",
       "        text-align: right;\n",
       "    }\n",
       "</style>\n",
       "<table border=\"1\" class=\"dataframe\">\n",
       "  <thead>\n",
       "    <tr style=\"text-align: right;\">\n",
       "      <th></th>\n",
       "      <th>Criminal Case</th>\n",
       "      <th>Total Assets</th>\n",
       "      <th>Liabilities</th>\n",
       "    </tr>\n",
       "    <tr>\n",
       "      <th>Party</th>\n",
       "      <th></th>\n",
       "      <th></th>\n",
       "      <th></th>\n",
       "    </tr>\n",
       "  </thead>\n",
       "  <tbody>\n",
       "    <tr>\n",
       "      <th>AAP</th>\n",
       "      <td>31</td>\n",
       "      <td>2.487807e+09</td>\n",
       "      <td>472854726.0</td>\n",
       "    </tr>\n",
       "    <tr>\n",
       "      <th>BJP</th>\n",
       "      <td>25</td>\n",
       "      <td>4.965818e+09</td>\n",
       "      <td>253437883.0</td>\n",
       "    </tr>\n",
       "    <tr>\n",
       "      <th>BSP</th>\n",
       "      <td>2</td>\n",
       "      <td>4.561986e+08</td>\n",
       "      <td>23083506.0</td>\n",
       "    </tr>\n",
       "    <tr>\n",
       "      <th>Bhartiya Veer Dal</th>\n",
       "      <td>5</td>\n",
       "      <td>7.828000e+05</td>\n",
       "      <td>96000.0</td>\n",
       "    </tr>\n",
       "    <tr>\n",
       "      <th>CPI</th>\n",
       "      <td>0</td>\n",
       "      <td>7.126000e+06</td>\n",
       "      <td>1375000.0</td>\n",
       "    </tr>\n",
       "    <tr>\n",
       "      <th>CPI(M)</th>\n",
       "      <td>67</td>\n",
       "      <td>4.496489e+08</td>\n",
       "      <td>13696393.0</td>\n",
       "    </tr>\n",
       "    <tr>\n",
       "      <th>Himachal Jan Kranti Party</th>\n",
       "      <td>1</td>\n",
       "      <td>1.610552e+07</td>\n",
       "      <td>457000.0</td>\n",
       "    </tr>\n",
       "    <tr>\n",
       "      <th>Himachal Janta Party</th>\n",
       "      <td>0</td>\n",
       "      <td>2.335426e+06</td>\n",
       "      <td>400000.0</td>\n",
       "    </tr>\n",
       "    <tr>\n",
       "      <th>Hindu Samaj Party</th>\n",
       "      <td>0</td>\n",
       "      <td>1.516740e+06</td>\n",
       "      <td>36000.0</td>\n",
       "    </tr>\n",
       "    <tr>\n",
       "      <th>INC</th>\n",
       "      <td>85</td>\n",
       "      <td>8.044365e+09</td>\n",
       "      <td>912624177.0</td>\n",
       "    </tr>\n",
       "    <tr>\n",
       "      <th>IND</th>\n",
       "      <td>24</td>\n",
       "      <td>2.326939e+09</td>\n",
       "      <td>348878621.0</td>\n",
       "    </tr>\n",
       "    <tr>\n",
       "      <th>Rashtriya Devbhumi Party</th>\n",
       "      <td>8</td>\n",
       "      <td>3.091173e+08</td>\n",
       "      <td>73064281.0</td>\n",
       "    </tr>\n",
       "    <tr>\n",
       "      <th>Rashtriya Lokneeti Party</th>\n",
       "      <td>0</td>\n",
       "      <td>1.063000e+07</td>\n",
       "      <td>1700000.0</td>\n",
       "    </tr>\n",
       "    <tr>\n",
       "      <th>Sainik Samaj Party</th>\n",
       "      <td>0</td>\n",
       "      <td>2.889500e+07</td>\n",
       "      <td>0.0</td>\n",
       "    </tr>\n",
       "    <tr>\n",
       "      <th>Swabhiman Party</th>\n",
       "      <td>0</td>\n",
       "      <td>8.783050e+07</td>\n",
       "      <td>820000.0</td>\n",
       "    </tr>\n",
       "  </tbody>\n",
       "</table>\n",
       "</div>"
      ],
      "text/plain": [
       "                           Criminal Case  Total Assets  Liabilities\n",
       "Party                                                              \n",
       "AAP                                   31  2.487807e+09  472854726.0\n",
       "BJP                                   25  4.965818e+09  253437883.0\n",
       "BSP                                    2  4.561986e+08   23083506.0\n",
       "Bhartiya Veer Dal                      5  7.828000e+05      96000.0\n",
       "CPI                                    0  7.126000e+06    1375000.0\n",
       "CPI(M)                                67  4.496489e+08   13696393.0\n",
       "Himachal Jan Kranti Party              1  1.610552e+07     457000.0\n",
       "Himachal Janta Party                   0  2.335426e+06     400000.0\n",
       "Hindu Samaj Party                      0  1.516740e+06      36000.0\n",
       "INC                                   85  8.044365e+09  912624177.0\n",
       "IND                                   24  2.326939e+09  348878621.0\n",
       "Rashtriya Devbhumi Party               8  3.091173e+08   73064281.0\n",
       "Rashtriya Lokneeti Party               0  1.063000e+07    1700000.0\n",
       "Sainik Samaj Party                     0  2.889500e+07          0.0\n",
       "Swabhiman Party                        0  8.783050e+07     820000.0"
      ]
     },
     "execution_count": 16,
     "metadata": {},
     "output_type": "execute_result"
    }
   ],
   "source": [
    "df.groupby(['Party']).sum()"
   ]
  },
  {
   "cell_type": "code",
   "execution_count": 17,
   "id": "a2b9d18c",
   "metadata": {},
   "outputs": [],
   "source": [
    "# Sometimes in a dataset having large distributions, ploting histograms directly is not a good choice/approach.\n",
    "# Therefore we have first calculated some aggregate figures using pd.groupby function and then plotted the histogram.\n",
    "# to verify and read the histogram accurately we have printed the output of groupby function as well."
   ]
  },
  {
   "cell_type": "code",
   "execution_count": 18,
   "id": "02a75685",
   "metadata": {},
   "outputs": [
    {
     "data": {
      "text/plain": [
       "<AxesSubplot:xlabel='Criminal Case', ylabel='Count'>"
      ]
     },
     "execution_count": 18,
     "metadata": {},
     "output_type": "execute_result"
    },
    {
     "data": {
      "image/png": "[encoded data removed]",
      "text/plain": [
       "<Figure size 1584x1008 with 1 Axes>"
      ]
     },
     "metadata": {},
     "output_type": "display_data"
    }
   ],
   "source": [
    "grps = df.groupby(['Party']).sum()\n",
    "sns.histplot(data = grps, x = grps.get('Criminal Case'),bins = 70)"
   ]
  },
  {
   "cell_type": "markdown",
   "id": "113b35fc",
   "metadata": {},
   "source": [
    "### What insights we can draw---\n",
    "1. Majority of the parties do not have criminal cases filed against their candidates. The number is around 7, precisely 6 as we can count the same xthrough above groupby function output.\n",
    "2. There is only one party having crosses the mark of greater than 80 criminal cases in total, precisely 85 and the party is INC - INDIAN NATIONAL CONGRESS\n",
    "3. The least cases is against Himachal Jan Kranti Party."
   ]
  },
  {
   "cell_type": "code",
   "execution_count": 19,
   "id": "37df7efd",
   "metadata": {},
   "outputs": [
    {
     "data": {
      "text/plain": [
       "<AxesSubplot:xlabel='Total Assets', ylabel='Count'>"
      ]
     },
     "execution_count": 19,
     "metadata": {},
     "output_type": "execute_result"
    },
    {
     "data": {
      "image/png": "[encoded data removed]",
      "text/plain": [
       "<Figure size 1584x1008 with 1 Axes>"
      ]
     },
     "metadata": {},
     "output_type": "display_data"
    }
   ],
   "source": [
    "sns.histplot(data = grps, x = grps.get('Total Assets'),bins = 70)"
   ]
  },
  {
   "cell_type": "markdown",
   "id": "00e6b4a5",
   "metadata": {},
   "source": [
    "# What insights we can draw---\n",
    "The value of Total Assets owned by different parties in billions. And the Award goes to INC - INDIAN NATIONAL CONGRESS."
   ]
  },
  {
   "cell_type": "markdown",
   "id": "1ff2f082",
   "metadata": {},
   "source": [
    "### b. Distplot\n",
    "It is going to get drooped in coming versions of Seaborn, and hence we are skipping this."
   ]
  },
  {
   "cell_type": "markdown",
   "id": "383b3457",
   "metadata": {},
   "source": [
    "### c. Boxplot"
   ]
  },
  {
   "cell_type": "code",
   "execution_count": 20,
   "id": "5a3dbfc5",
   "metadata": {},
   "outputs": [
    {
     "data": {
      "text/plain": [
       "<AxesSubplot:>"
      ]
     },
     "execution_count": 20,
     "metadata": {},
     "output_type": "execute_result"
    },
    {
     "data": {
      "image/png": "[encoded data removed]",
      "text/plain": [
       "<Figure size 1584x1008 with 1 Axes>"
      ]
     },
     "metadata": {},
     "output_type": "display_data"
    }
   ],
   "source": [
    "sns.boxplot(df['Liabilities'])"
   ]
  },
  {
   "cell_type": "markdown",
   "id": "44008fb5",
   "metadata": {},
   "source": [
    "## Some other methods/functions to analyse the Numerical data:"
   ]
  },
  {
   "cell_type": "code",
   "execution_count": 21,
   "id": "ed25eff1",
   "metadata": {},
   "outputs": [
    {
     "data": {
      "text/plain": [
       "8044365114.0"
      ]
     },
     "execution_count": 21,
     "metadata": {},
     "output_type": "execute_result"
    }
   ],
   "source": [
    "grps.get('Total Assets').max()"
   ]
  },
  {
   "cell_type": "code",
   "execution_count": 22,
   "id": "98d484ff",
   "metadata": {},
   "outputs": [
    {
     "data": {
      "text/plain": [
       "912624177.0"
      ]
     },
     "execution_count": 22,
     "metadata": {},
     "output_type": "execute_result"
    }
   ],
   "source": [
    "grps.get('Liabilities').max()"
   ]
  },
  {
   "cell_type": "code",
   "execution_count": 23,
   "id": "d1d756a9",
   "metadata": {},
   "outputs": [
    {
     "data": {
      "text/plain": [
       "85"
      ]
     },
     "execution_count": 23,
     "metadata": {},
     "output_type": "execute_result"
    }
   ],
   "source": [
    "grps.get('Criminal Case').max()"
   ]
  }
 ],
 "metadata": {
  "kernelspec": {
   "display_name": "Python 3 (ipykernel)",
   "language": "python",
   "name": "python3"
  },
  "language_info": {
   "codemirror_mode": {
    "name": "ipython",
    "version": 3
   },
   "file_extension": ".py",
   "mimetype": "text/x-python",
   "name": "python",
   "nbconvert_exporter": "python",
   "pygments_lexer": "ipython3",
   "version": "3.10.4"
  }
 },
 "nbformat": 4,
 "nbformat_minor": 5
}
